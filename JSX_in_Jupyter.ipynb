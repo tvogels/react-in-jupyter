{
 "cells": [
  {
   "cell_type": "code",
   "execution_count": null,
   "metadata": {},
   "outputs": [],
   "source": [
    "%load_ext autoreload\n",
    "%autoreload 2"
   ]
  },
  {
   "cell_type": "code",
   "execution_count": null,
   "metadata": {},
   "outputs": [],
   "source": [
    "import react_jupyter\n",
    "react_jupyter.init()"
   ]
  },
  {
   "cell_type": "code",
   "execution_count": null,
   "metadata": {},
   "outputs": [],
   "source": [
    "%%jsx\n",
    "render(<div>Hello</div>)"
   ]
  },
  {
   "cell_type": "markdown",
   "metadata": {},
   "source": [
    "### SVG Demo"
   ]
  },
  {
   "cell_type": "code",
   "execution_count": null,
   "metadata": {},
   "outputs": [],
   "source": [
    "%%jsx\n",
    "render(\n",
    "    <svg width={300} height={151.5}>\n",
    "        <circle cx={0} cy={0} r={150} fill=\"goldenrod\" strokeWidth=\"3\" stroke=\"gray\" />\n",
    "    </svg>\n",
    ")"
   ]
  },
  {
   "cell_type": "markdown",
   "metadata": {},
   "source": [
    "### Reading values from Python"
   ]
  },
  {
   "cell_type": "code",
   "execution_count": null,
   "metadata": {},
   "outputs": [],
   "source": [
    "values = [\"monkey\", \"nut\", \"egg\"]\n",
    "selection = 1"
   ]
  },
  {
   "cell_type": "code",
   "execution_count": null,
   "metadata": {},
   "outputs": [],
   "source": [
    "%%jsx values, selection\n",
    "render(\n",
    "    <div>\n",
    "        <p>Value from Python:</p>\n",
    "        <ul>\n",
    "            {values.map(v => <li>{v}</li>)}\n",
    "        </ul>\n",
    "        <p>Selection: <strong>{values[selection]}</strong></p>\n",
    "    </div>\n",
    ")"
   ]
  },
  {
   "cell_type": "markdown",
   "metadata": {},
   "source": [
    "### Animation & cleanup"
   ]
  },
  {
   "cell_type": "code",
   "execution_count": null,
   "metadata": {},
   "outputs": [],
   "source": [
    "%%jsx values\n",
    "render(<span>Let's count until the cell is re-executed or deleted.</span>);\n",
    "\n",
    "let i = 0;\n",
    "\n",
    "const interval = setInterval(() => {\n",
    "    i++;\n",
    "    render(<span>{i}. {values[i%values.length]}</span>);\n",
    "    console.log(\"incremented\");\n",
    "}, 1000);\n",
    "\n",
    "cell.onCleanup(() => clearInterval(interval))"
   ]
  },
  {
   "cell_type": "markdown",
   "metadata": {},
   "source": [
    "### Polling Python for variable updates"
   ]
  },
  {
   "cell_type": "markdown",
   "metadata": {},
   "source": [
    "You can fetch Python variables with `fetchVariable`, which returns a Promise."
   ]
  },
  {
   "cell_type": "code",
   "execution_count": null,
   "metadata": {},
   "outputs": [],
   "source": [
    "# Change me\n",
    "import numpy as np\n",
    "results = np.array([1, 2, 3, 4, 5, 10])"
   ]
  },
  {
   "cell_type": "code",
   "execution_count": null,
   "metadata": {},
   "outputs": [],
   "source": [
    "%%jsx\n",
    "\n",
    "render(<span>Loading ...</span>)\n",
    "\n",
    "const boxStyle = {width: '40px', margin: '5px 5px 0 5px', backgroundColor: \"red\", textAlign: \"center\", fontSize: \"10px\", color: \"white\"};\n",
    "\n",
    "function run() {\n",
    "    fetchVariable(\"results\").then(results => {\n",
    "        render(\n",
    "            <div style={{display: \"flex\", alignItems: \"flex-end\", borderBottom: \"1px solid #666\", width: \"auto\"}}>\n",
    "                {results.map(r => (\n",
    "                    <div style={{height: `${10 + r * 10}px`, ...boxStyle}}>\n",
    "                    {r}\n",
    "                    </div>\n",
    "                ))}\n",
    "            </div>);\n",
    "    })\n",
    "}\n",
    "\n",
    "run();\n",
    "const interval = setInterval(run, 100);\n",
    "\n",
    "onCleanup(() => clearInterval(interval))"
   ]
  }
 ],
 "metadata": {
  "kernelspec": {
   "display_name": "Python 3",
   "language": "python",
   "name": "python3"
  }
 },
 "nbformat": 4,
 "nbformat_minor": 2
}
