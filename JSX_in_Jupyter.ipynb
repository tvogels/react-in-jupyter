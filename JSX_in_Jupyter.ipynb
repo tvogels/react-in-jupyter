{
 "cells": [
  {
   "cell_type": "code",
   "execution_count": 1,
   "metadata": {},
   "outputs": [],
   "source": [
    "%load_ext autoreload\n",
    "%autoreload 2"
   ]
  },
  {
   "cell_type": "code",
   "execution_count": 2,
   "metadata": {},
   "outputs": [
    {
     "data": {
      "application/javascript": [
       "window.REACT_JUPYTER_SETUP_LOADED = true;\n",
       "\n",
       "/**\n",
       " * RequireJS dependencies\n",
       " */\n",
       "let d3requireLoaded = null;\n",
       "window.d3require = library => {\n",
       "    if (d3requireLoaded == null) {\n",
       "        return new Promise(resolve => {\n",
       "            require([\"https://cdn.jsdelivr.net/npm/d3-require@1\"], d3 => {\n",
       "                const d3require = d3.require.alias({\n",
       "                    react: \"react@16/umd/react.production.min.js\",\n",
       "                    \"react-dom\": \"react-dom@16/umd/react-dom.production.min.js\"\n",
       "                });\n",
       "                d3requireLoaded = d3require;\n",
       "                resolve(d3require(library));\n",
       "            });\n",
       "        });\n",
       "    } else {\n",
       "        console.log(\"we already have d3require\");\n",
       "        return d3requireLoaded(library);\n",
       "    }\n",
       "};\n",
       "\n",
       "/**\n",
       " * Execute Python code and wait for the response\n",
       " */\n",
       "window.python = function(pythonCode) {\n",
       "    return new Promise((resolve, reject) => {\n",
       "        let streamOutput = [];\n",
       "        let errorOutput = null;\n",
       "        const callbacks = {\n",
       "            shell: {\n",
       "                reply: msg => {\n",
       "                    if (msg.msg_type === \"execute_reply\") {\n",
       "                        if (msg.content.status === \"ok\") {\n",
       "                            resolve(streamOutput.join(\"\"));\n",
       "                        } else if (msg.content.status === \"error\") {\n",
       "                            reject(new Error(errorOutput.exception + \": \" + errorOutput.message));\n",
       "                        } else {\n",
       "                            throw new Error(\"Unknown status \" + msg.content.status);\n",
       "                        }\n",
       "                    }\n",
       "                },\n",
       "                payload: {\n",
       "                    set_next_input: x => {\n",
       "                        throw new Error(\"Don't know what to do with a set_next_input message.\");\n",
       "                    }\n",
       "                }\n",
       "            },\n",
       "            iopub: {\n",
       "                output: msg => {\n",
       "                    if (msg.msg_type === \"stream\") {\n",
       "                        streamOutput.push(msg.content.text);\n",
       "                    } else if (msg.msg_type === \"error\") {\n",
       "                        errorOutput = {\n",
       "                            exception: msg.content.ename,\n",
       "                            message: msg.content.evalue,\n",
       "                            traceback: msg.content.traceback\n",
       "                        };\n",
       "                    } else {\n",
       "                        throw new Error(\"Received output with unknown type \" + msg.msg_type);\n",
       "                    }\n",
       "                },\n",
       "                clear_output: msg => {\n",
       "                    streamOutput = [];\n",
       "                }\n",
       "            },\n",
       "            input: msg => {\n",
       "                throw new Error(\"Don't know what to do with an input message.\");\n",
       "            }\n",
       "        };\n",
       "        Jupyter.notebook.kernel.execute(pythonCode, callbacks, { silent: false });\n",
       "    });\n",
       "};\n",
       "\n",
       "/**\n",
       " * Fetch a Python variable from the server\n",
       " */\n",
       "window.fetchVariable = function(variableName) {\n",
       "    const code = `\n",
       "from react_jupyter import CustomJSONEncoder\n",
       "import json\n",
       "print(json.dumps(${variableName}, cls=CustomJSONEncoder))`.trim();\n",
       "    return window.python(code).then(x => JSON.parse(x.trim()));\n",
       "};\n",
       "\n",
       "/**\n",
       " * Enable syntax highlighting for JSX cells\n",
       " */\n",
       "Jupyter.CodeCell.options_default.highlight_modes.magic_jsx = { reg: [\"^%%jsx\"] };\n",
       "\n",
       "class CleanupManager {\n",
       "    constructor() {\n",
       "        this.callbacks = [];\n",
       "    }\n",
       "    register(callback) {\n",
       "        this.callbacks.push(callback);\n",
       "    }\n",
       "    cleanup() {\n",
       "        for (let callback of this.callbacks) {\n",
       "            callback();\n",
       "        }\n",
       "        this.callbacks = [];\n",
       "    }\n",
       "    childScope() {\n",
       "        const manager = new CleanupManager();\n",
       "        this.register(() => manager.cleanup());\n",
       "        return manager;\n",
       "    }\n",
       "}\n",
       "\n",
       "/**\n",
       " * A Cell handles rendering and cleanup\n",
       " */\n",
       "class Cell {\n",
       "    constructor(element) {\n",
       "        this.elem = element;\n",
       "        this.outputDiv = this._findParentOutputDiv(element);\n",
       "        this.notebookElement = this.outputDiv.parentElement.parentElement;\n",
       "        this.notebookContainer = this.notebookElement.parentElement;\n",
       "\n",
       "        this.cleanupManager = new CleanupManager();\n",
       "\n",
       "        this._listenForCleanup();\n",
       "    }\n",
       "\n",
       "    render(tree) {\n",
       "        d3require(\"react-dom\").then(ReactDOM => {\n",
       "            ReactDOM.render(tree, this.elem);\n",
       "        });\n",
       "    }\n",
       "\n",
       "    renderError(errorMessage) {\n",
       "        d3require(\"react\").then(React => {\n",
       "            this.render(\n",
       "                React.createElement(\n",
       "                    \"div\",\n",
       "                    {\n",
       "                        style: {\n",
       "                            borderLeft: \"3px solid red\",\n",
       "                            padding: \"0.5em 1em\",\n",
       "                            backgroundColor: \"rgba(255, 0, 0, 0.1)\"\n",
       "                        }\n",
       "                    },\n",
       "                    [\n",
       "                        React.createElement(\"strong\", {}, [\"Error\"]),\n",
       "                        React.createElement(\"div\", { style: { whiteSpace: \"pre\", fontFamily: \"monospace\" } }, [\n",
       "                            errorMessage\n",
       "                        ])\n",
       "                    ]\n",
       "                )\n",
       "            );\n",
       "        });\n",
       "    }\n",
       "\n",
       "    _cleanup() {\n",
       "        this.cleanupManager.cleanup();\n",
       "    }\n",
       "\n",
       "    _listenForCleanup() {\n",
       "        const reExecuteDetector = new MutationObserver(this._cleanup.bind(this));\n",
       "        reExecuteDetector.observe(this.outputDiv, { childList: true });\n",
       "        this.cleanupManager.register(() => reExecuteDetector.disconnect());\n",
       "\n",
       "        const cellDeletionDetector = new MutationObserver(mutationRecord => {\n",
       "            for (let mutation of mutationRecord) {\n",
       "                if (mutation.type === \"childList\") {\n",
       "                    for (let node of mutation.removedNodes) {\n",
       "                        if (node === this.notebookElement) {\n",
       "                            return this._cleanup(mutationRecord);\n",
       "                        }\n",
       "                    }\n",
       "                }\n",
       "            }\n",
       "        });\n",
       "        cellDeletionDetector.observe(this.notebookContainer, { childList: true });\n",
       "        this.cleanupManager.register(() => cellDeletionDetector.disconnect());\n",
       "    }\n",
       "\n",
       "    _findParentOutputDiv(el) {\n",
       "        let candidate = el;\n",
       "        while (candidate) {\n",
       "            candidate = candidate.parentElement;\n",
       "            if (candidate.className === \"output\") {\n",
       "                return candidate;\n",
       "            }\n",
       "        }\n",
       "        throw Error(\"parent output div not found\");\n",
       "    }\n",
       "}\n",
       "\n",
       "window.Cell = Cell;\n",
       "\n",
       "class Registry {\n",
       "    constructor() {\n",
       "        this.registry = new Map();\n",
       "        this.dependencies = new Set();\n",
       "    }\n",
       "\n",
       "    publishMany(pairs) {\n",
       "        for (const [variable, value] of pairs) {\n",
       "            this.registry.set(variable, value);\n",
       "        }\n",
       "        const changedVariables = pairs.map(p => p[0]);\n",
       "        for (const { variables, callback } of this.dependencies) {\n",
       "            const nonZeroIntersection = changedVariables.find(v => variables.has(v));\n",
       "            if (nonZeroIntersection) {\n",
       "                this.call(variables, callback);\n",
       "            }\n",
       "        }\n",
       "    }\n",
       "\n",
       "    call(variables, callback) {\n",
       "        const values = {};\n",
       "        for (const v of variables) {\n",
       "            values[v] = this.get(v);\n",
       "        }\n",
       "        callback(values);\n",
       "    }\n",
       "\n",
       "    publish(variable, value) {\n",
       "        this.publishMany([[variable, value]]);\n",
       "    }\n",
       "\n",
       "    get(variable) {\n",
       "        return this.registry.get(variable);\n",
       "    }\n",
       "\n",
       "    listen(variables, callback) {\n",
       "        variables = new Set(variables);\n",
       "        const obj = { variables, callback };\n",
       "        this.dependencies.add(obj);\n",
       "\n",
       "        this.call(variables, callback);\n",
       "\n",
       "        return () => this.dependencies.delete(obj);\n",
       "    }\n",
       "}\n",
       "window.registry = new Registry();\n",
       "\n",
       "/**\n",
       " * Registry entry for the width of a code cell,\n",
       " * so cells can auto-update on resize.\n",
       " */\n",
       "let previousCellWidth = null;\n",
       "function updateCellWidth() {\n",
       "    const width = Math.round(document.getElementsByClassName(\"inner_cell\")[0].clientWidth - 18.8);\n",
       "    if (width !== previousCellWidth) {\n",
       "        previousCellWidth = width;\n",
       "        registry.publish(\"width\", width);\n",
       "    }\n",
       "}\n",
       "updateCellWidth();\n",
       "window.addEventListener(\"resize\", updateCellWidth);\n"
      ],
      "text/plain": [
       "<IPython.core.display.Javascript object>"
      ]
     },
     "metadata": {},
     "output_type": "display_data"
    }
   ],
   "source": [
    "import react_jupyter\n",
    "react_jupyter.init()"
   ]
  },
  {
   "cell_type": "code",
   "execution_count": 12,
   "metadata": {
    "code_folding": []
   },
   "outputs": [
    {
     "data": {
      "application/javascript": [
       "\n",
       "    if (!window.REACT_JUPYTER_SETUP_LOADED) {\n",
       "        element[0].innerHTML = \"Make sure to run <code>react_jupyter.init()</code> before this cell.\";\n",
       "    } else {\n",
       "        Promise.all([\"babel-standalone@6\", \"react\", \"react-dom\"].map(x => d3require(x))).then(([Babel, React, ReactDOM]) => {\n",
       "            const cell = new Cell(element[0]);\n",
       "            const render = cell.render.bind(cell);\n",
       "\n",
       "            const cleanupManager = cell.cleanupManager.childScope();\n",
       "            const onCleanup = cleanupManager.register.bind(cleanupManager);\n",
       "\n",
       "            const require = d3require;\n",
       "\n",
       "            const dependHandle = registry.listen([], ({  }) => {\n",
       "                cleanupManager.cleanup(); // Clean up from the previous iteration\n",
       "                try {\n",
       "                    const babelOutput = Babel.transform(\"(async () => {\\nrender(<div>Hello</div>)\\n})()\\n\", {presets: ['es2017', 'react', 'stage-0', 'stage-1', 'stage-2']})\n",
       "                    eval(babelOutput.code);\n",
       "                } catch (e) {\n",
       "                    cell.renderError(e.message);\n",
       "                }\n",
       "            });\n",
       "            cell.cleanupManager.register(dependHandle);\n",
       "        })\n",
       "        }\n",
       "    "
      ],
      "text/plain": [
       "<IPython.core.display.Javascript object>"
      ]
     },
     "metadata": {},
     "output_type": "display_data"
    }
   ],
   "source": [
    "%%jsx\n",
    "render(<div>Hello</div>)"
   ]
  },
  {
   "cell_type": "markdown",
   "metadata": {},
   "source": [
    "### SVG Demo"
   ]
  },
  {
   "cell_type": "code",
   "execution_count": null,
   "metadata": {
    "code_folding": []
   },
   "outputs": [],
   "source": [
    "%%jsx\n",
    "render(\n",
    "    <svg width={300} height={151.5}>\n",
    "        <circle cx={0} cy={0} r={150} fill=\"goldenrod\" strokeWidth=\"3\" stroke=\"gray\" />\n",
    "    </svg>\n",
    ")"
   ]
  },
  {
   "cell_type": "markdown",
   "metadata": {},
   "source": [
    "### Reading values from Python"
   ]
  },
  {
   "cell_type": "code",
   "execution_count": null,
   "metadata": {},
   "outputs": [],
   "source": [
    "values = [\"butter\", \"cheese\", \"eggs\"]\n",
    "selection = 1\n",
    "%publish values selection"
   ]
  },
  {
   "cell_type": "code",
   "execution_count": null,
   "metadata": {
    "code_folding": [
     0
    ]
   },
   "outputs": [],
   "source": [
    "%%jsx values selection\n",
    "render(\n",
    "    <div>\n",
    "        <p>Value from Python:</p>\n",
    "        <ul>\n",
    "            {values.map(v => <li>{v}</li>)}\n",
    "        </ul>\n",
    "        <p>Selection: <strong>{values[selection]}</strong></p>\n",
    "    </div>\n",
    ")"
   ]
  },
  {
   "cell_type": "markdown",
   "metadata": {},
   "source": [
    "### Animation & cleanup"
   ]
  },
  {
   "cell_type": "code",
   "execution_count": null,
   "metadata": {
    "code_folding": [
     0
    ]
   },
   "outputs": [],
   "source": [
    "%%jsx values\n",
    "render(<span>Let's count until the cell is re-executed or deleted.</span>);\n",
    "\n",
    "let i = 0;\n",
    "\n",
    "const interval = setInterval(() => {\n",
    "    i++;\n",
    "    render(<span>{i}. {values[i%values.length]}</span>);\n",
    "    console.log(\"incremented\");\n",
    "}, 1000);\n",
    "\n",
    "onCleanup(() => clearInterval(interval))"
   ]
  },
  {
   "cell_type": "markdown",
   "metadata": {},
   "source": [
    "### Fetching a Python variable"
   ]
  },
  {
   "cell_type": "markdown",
   "metadata": {},
   "source": [
    "You can fetch Python variables with `fetchVariable`, which returns a Promise."
   ]
  },
  {
   "cell_type": "code",
   "execution_count": null,
   "metadata": {},
   "outputs": [],
   "source": [
    "# Change me\n",
    "import numpy as np\n",
    "results = np.array([1, 2, 3, 4, 5, 10])"
   ]
  },
  {
   "cell_type": "code",
   "execution_count": null,
   "metadata": {
    "code_folding": [
     0
    ]
   },
   "outputs": [],
   "source": [
    "%%jsx \n",
    "\n",
    "const boxStyle = {width: '40px', margin: '5px 5px 0 5px', backgroundColor: \"red\", textAlign: \"center\", fontSize: \"10px\", color: \"white\"};\n",
    "\n",
    "fetchVariable(\"results\").then(results => {\n",
    "    render(\n",
    "        <div style={{display: \"flex\", alignItems: \"flex-end\", borderBottom: \"1px solid #666\", width: \"auto\"}}>\n",
    "            {results.map(r => (\n",
    "                <div style={{height: `${10 + r * 10}px`, ...boxStyle}}>\n",
    "                {r}\n",
    "                </div>\n",
    "            ))}\n",
    "        </div>\n",
    "    );\n",
    "})\n"
   ]
  },
  {
   "cell_type": "markdown",
   "metadata": {},
   "source": [
    "## FlexVG"
   ]
  },
  {
   "cell_type": "code",
   "execution_count": 18,
   "metadata": {},
   "outputs": [
    {
     "data": {
      "application/javascript": [
       "registry.publishMany([[\"cell_sizes\", [1, 2, 3, 4, 5]]]);"
      ],
      "text/plain": [
       "<IPython.core.display.Javascript object>"
      ]
     },
     "metadata": {},
     "output_type": "display_data"
    }
   ],
   "source": [
    "cell_sizes = [1, 2, 3, 4, 5]\n",
    "%publish cell_sizes"
   ]
  },
  {
   "cell_type": "code",
   "execution_count": 14,
   "metadata": {
    "code_folding": []
   },
   "outputs": [
    {
     "data": {
      "application/javascript": [
       "\n",
       "    if (!window.REACT_JUPYTER_SETUP_LOADED) {\n",
       "        element[0].innerHTML = \"Make sure to run <code>react_jupyter.init()</code> before this cell.\";\n",
       "    } else {\n",
       "        Promise.all([\"babel-standalone@6\", \"react\", \"react-dom\"].map(x => d3require(x))).then(([Babel, React, ReactDOM]) => {\n",
       "            const cell = new Cell(element[0]);\n",
       "            const render = cell.render.bind(cell);\n",
       "\n",
       "            const cleanupManager = cell.cleanupManager.childScope();\n",
       "            const onCleanup = cleanupManager.register.bind(cleanupManager);\n",
       "\n",
       "            const require = d3require;\n",
       "\n",
       "            const dependHandle = registry.listen([\"width\", \"cell_sizes\"], ({ width, cell_sizes }) => {\n",
       "                cleanupManager.cleanup(); // Clean up from the previous iteration\n",
       "                try {\n",
       "                    const babelOutput = Babel.transform(\"(async () => {\\nconst { Flex, bg, textbox, SaveButton, boxLabel } = await require(\\\"flexvg@0.0.6\\\")\\nconst { schemeTableau10 } = await require(\\\"d3-scale-chromatic\\\")\\n\\nrender(\\n    <div>\\n        <Flex svg width={width} height={200} marginTop={30}>\\n            {cell_sizes.map((s, i) => (\\n                <Flex flexGrow={s}>\\n                    {bg({ color: schemeTableau10[i] })}\\n                    {textbox({ text: `Factor ${s}`, color: \\\"white\\\" })}\\n                </Flex>\\n            ))}\\n            {boxLabel({ text: \\\"These boxes update if you change cell_sizes above!\\\", position: \\\"top\\\", offset: 15})}\\n        </Flex>\\n        <SaveButton />\\n    </div>\\n);\\n})()\\n\", {presets: ['es2017', 'react', 'stage-0', 'stage-1', 'stage-2']})\n",
       "                    eval(babelOutput.code);\n",
       "                } catch (e) {\n",
       "                    cell.renderError(e.message);\n",
       "                }\n",
       "            });\n",
       "            cell.cleanupManager.register(dependHandle);\n",
       "        })\n",
       "        }\n",
       "    "
      ],
      "text/plain": [
       "<IPython.core.display.Javascript object>"
      ]
     },
     "metadata": {},
     "output_type": "display_data"
    }
   ],
   "source": [
    "%%jsx width cell_sizes\n",
    "const { Flex, bg, textbox, SaveButton, boxLabel } = await require(\"flexvg@0.0.6\")\n",
    "const { schemeTableau10 } = await require(\"d3-scale-chromatic\")\n",
    "\n",
    "render(\n",
    "    <div>\n",
    "        <Flex svg width={width} height={200} marginTop={30}>\n",
    "            {cell_sizes.map((s, i) => (\n",
    "                <Flex flexGrow={s}>\n",
    "                    {bg({ color: schemeTableau10[i] })}\n",
    "                    {textbox({ text: `Factor ${s}`, color: \"white\" })}\n",
    "                </Flex>\n",
    "            ))}\n",
    "            {boxLabel({ text: \"These boxes update if you change cell_sizes above!\", position: \"top\", offset: 15})}\n",
    "        </Flex>\n",
    "        <SaveButton />\n",
    "    </div>\n",
    ");"
   ]
  },
  {
   "cell_type": "code",
   "execution_count": null,
   "metadata": {},
   "outputs": [],
   "source": []
  }
 ],
 "metadata": {
  "kernelspec": {
   "display_name": "Python 3",
   "language": "python",
   "name": "python3"
  },
  "language_info": {
   "codemirror_mode": {
    "name": "ipython",
    "version": 3
   },
   "file_extension": ".py",
   "mimetype": "text/x-python",
   "name": "python",
   "nbconvert_exporter": "python",
   "pygments_lexer": "ipython3",
   "version": "3.7.4"
  },
  "toc": {
   "base_numbering": 1,
   "nav_menu": {},
   "number_sections": true,
   "sideBar": true,
   "skip_h1_title": false,
   "title_cell": "Table of Contents",
   "title_sidebar": "Contents",
   "toc_cell": false,
   "toc_position": {},
   "toc_section_display": true,
   "toc_window_display": false
  }
 },
 "nbformat": 4,
 "nbformat_minor": 2
}
